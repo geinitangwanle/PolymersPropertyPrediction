{
 "cells": [
  {
   "cell_type": "code",
   "execution_count": 1,
   "id": "8c5b1611",
   "metadata": {},
   "outputs": [
    {
     "name": "stderr",
     "output_type": "stream",
     "text": [
      "/opt/anaconda3/envs/py38/lib/python3.8/site-packages/tqdm/auto.py:21: TqdmWarning: IProgress not found. Please update jupyter and ipywidgets. See https://ipywidgets.readthedocs.io/en/stable/user_install.html\n",
      "  from .autonotebook import tqdm as notebook_tqdm\n"
     ]
    }
   ],
   "source": [
    "from PSMILES_to_graph_v2 import convert_csv_to_graphs\n",
    "import tqdm"
   ]
  },
  {
   "cell_type": "code",
   "execution_count": 2,
   "id": "362873b7",
   "metadata": {},
   "outputs": [
    {
     "name": "stderr",
     "output_type": "stream",
     "text": [
      "Converting PSMILES to graphs:   2%|▏         | 119/7367 [00:13<13:14,  9.12it/s]\n"
     ]
    },
    {
     "ename": "KeyboardInterrupt",
     "evalue": "",
     "output_type": "error",
     "traceback": [
      "\u001b[0;31m---------------------------------------------------------------------------\u001b[0m",
      "\u001b[0;31mKeyboardInterrupt\u001b[0m                         Traceback (most recent call last)",
      "Cell \u001b[0;32mIn[2], line 1\u001b[0m\n\u001b[0;32m----> 1\u001b[0m graphs, manifest \u001b[38;5;241m=\u001b[39m \u001b[43mconvert_csv_to_graphs\u001b[49m\u001b[43m(\u001b[49m\n\u001b[1;32m      2\u001b[0m \u001b[43m    \u001b[49m\u001b[38;5;124;43m\"\u001b[39;49m\u001b[38;5;124;43mLAMALAB_CURATED_Tg_structured copy.csv\u001b[39;49m\u001b[38;5;124;43m\"\u001b[39;49m\u001b[43m,\u001b[49m\n\u001b[1;32m      3\u001b[0m \u001b[43m    \u001b[49m\u001b[43msave_dir\u001b[49m\u001b[38;5;241;43m=\u001b[39;49m\u001b[38;5;124;43m\"\u001b[39;49m\u001b[38;5;124;43mgraphs_npz_v2\u001b[39;49m\u001b[38;5;124;43m\"\u001b[39;49m\u001b[43m,\u001b[49m\n\u001b[1;32m      4\u001b[0m \u001b[43m    \u001b[49m\u001b[43msave_extras\u001b[49m\u001b[38;5;241;43m=\u001b[39;49m\u001b[38;5;28;43;01mTrue\u001b[39;49;00m\u001b[43m,\u001b[49m\n\u001b[1;32m      5\u001b[0m \u001b[43m    \u001b[49m\u001b[43mgraph_kwargs\u001b[49m\u001b[38;5;241;43m=\u001b[39;49m\u001b[38;5;28;43mdict\u001b[39;49m\u001b[43m(\u001b[49m\n\u001b[1;32m      6\u001b[0m \u001b[43m        \u001b[49m\u001b[43madd_atom_feats\u001b[49m\u001b[38;5;241;43m=\u001b[39;49m\u001b[38;5;28;43;01mTrue\u001b[39;49;00m\u001b[43m,\u001b[49m\n\u001b[1;32m      7\u001b[0m \u001b[43m        \u001b[49m\u001b[43madd_edge_rbf\u001b[49m\u001b[38;5;241;43m=\u001b[39;49m\u001b[38;5;28;43;01mTrue\u001b[39;49;00m\u001b[43m,\u001b[49m\n\u001b[1;32m      8\u001b[0m \u001b[43m        \u001b[49m\u001b[43mrbf_K\u001b[49m\u001b[38;5;241;43m=\u001b[39;49m\u001b[38;5;241;43m16\u001b[39;49m\u001b[43m,\u001b[49m\u001b[43m \u001b[49m\u001b[43mrbf_rmax\u001b[49m\u001b[38;5;241;43m=\u001b[39;49m\u001b[38;5;241;43m4.0\u001b[39;49m\u001b[43m,\u001b[49m\n\u001b[1;32m      9\u001b[0m \u001b[43m        \u001b[49m\u001b[43madd_nonbond_edges\u001b[49m\u001b[38;5;241;43m=\u001b[39;49m\u001b[38;5;28;43;01mTrue\u001b[39;49;00m\u001b[43m,\u001b[49m\u001b[43m \u001b[49m\u001b[43mnonbond_cutoff\u001b[49m\u001b[38;5;241;43m=\u001b[39;49m\u001b[38;5;241;43m4.0\u001b[39;49m\u001b[43m,\u001b[49m\n\u001b[1;32m     10\u001b[0m \u001b[43m        \u001b[49m\u001b[43madd_anchor_context\u001b[49m\u001b[38;5;241;43m=\u001b[39;49m\u001b[38;5;28;43;01mTrue\u001b[39;49;00m\u001b[43m,\u001b[49m\n\u001b[1;32m     11\u001b[0m \u001b[43m        \u001b[49m\u001b[43mcompute_gasteiger\u001b[49m\u001b[38;5;241;43m=\u001b[39;49m\u001b[38;5;28;43;01mTrue\u001b[39;49;00m\u001b[43m,\u001b[49m\n\u001b[1;32m     12\u001b[0m \u001b[43m    \u001b[49m\u001b[43m)\u001b[49m\u001b[43m,\u001b[49m\n\u001b[1;32m     13\u001b[0m \u001b[43m)\u001b[49m\n",
      "File \u001b[0;32m~/Documents/PolymersPropertyPrediction/PSMILES_to_graph_v2.py:365\u001b[0m, in \u001b[0;36mconvert_csv_to_graphs\u001b[0;34m(csv_path, save_dir, save_extras, graph_kwargs)\u001b[0m\n\u001b[1;32m    362\u001b[0m     \u001b[38;5;28;01mcontinue\u001b[39;00m\n\u001b[1;32m    364\u001b[0m \u001b[38;5;28;01mtry\u001b[39;00m:\n\u001b[0;32m--> 365\u001b[0m     g \u001b[38;5;241m=\u001b[39m \u001b[43mgraph_from_psmiles\u001b[49m\u001b[43m(\u001b[49m\u001b[43mpsmiles\u001b[49m\u001b[43m,\u001b[49m\u001b[43m \u001b[49m\u001b[38;5;241;43m*\u001b[39;49m\u001b[38;5;241;43m*\u001b[39;49m\u001b[43mgraph_kwargs\u001b[49m\u001b[43m)\u001b[49m\n\u001b[1;32m    366\u001b[0m \u001b[38;5;28;01mexcept\u001b[39;00m \u001b[38;5;167;01mException\u001b[39;00m \u001b[38;5;28;01mas\u001b[39;00m e:\n\u001b[1;32m    367\u001b[0m     failures\u001b[38;5;241m.\u001b[39mappend({\n\u001b[1;32m    368\u001b[0m         \u001b[38;5;124m\"\u001b[39m\u001b[38;5;124mcsv_row\u001b[39m\u001b[38;5;124m\"\u001b[39m: row\u001b[38;5;241m.\u001b[39mIndex,\n\u001b[1;32m    369\u001b[0m         \u001b[38;5;124m\"\u001b[39m\u001b[38;5;124mmol_id\u001b[39m\u001b[38;5;124m\"\u001b[39m: \u001b[38;5;28mgetattr\u001b[39m(row, \u001b[38;5;124m\"\u001b[39m\u001b[38;5;124mpolymer_id\u001b[39m\u001b[38;5;124m\"\u001b[39m, row\u001b[38;5;241m.\u001b[39mIndex),\n\u001b[1;32m    370\u001b[0m         \u001b[38;5;124m\"\u001b[39m\u001b[38;5;124mpsmiles\u001b[39m\u001b[38;5;124m\"\u001b[39m: psmiles,\n\u001b[1;32m    371\u001b[0m         \u001b[38;5;124m\"\u001b[39m\u001b[38;5;124merror\u001b[39m\u001b[38;5;124m\"\u001b[39m: \u001b[38;5;28mstr\u001b[39m(e),\n\u001b[1;32m    372\u001b[0m     })\n",
      "File \u001b[0;32m~/Documents/PolymersPropertyPrediction/PSMILES_to_graph_v2.py:143\u001b[0m, in \u001b[0;36mgraph_from_psmiles\u001b[0;34m(psmiles, add_atom_feats, add_edge_rbf, rbf_K, rbf_rmax, add_nonbond_edges, nonbond_cutoff, add_anchor_context, compute_gasteiger)\u001b[0m\n\u001b[1;32m    141\u001b[0m \u001b[38;5;28;01mif\u001b[39;00m embed_status \u001b[38;5;241m!=\u001b[39m \u001b[38;5;241m0\u001b[39m:\n\u001b[1;32m    142\u001b[0m     \u001b[38;5;28;01mraise\u001b[39;00m \u001b[38;5;167;01mRuntimeError\u001b[39;00m(\u001b[38;5;124m\"\u001b[39m\u001b[38;5;124mFailed to embed 3D coordinates for the molecule.\u001b[39m\u001b[38;5;124m\"\u001b[39m)\n\u001b[0;32m--> 143\u001b[0m \u001b[43mAllChem\u001b[49m\u001b[38;5;241;43m.\u001b[39;49m\u001b[43mUFFOptimizeMolecule\u001b[49m\u001b[43m(\u001b[49m\u001b[43mmol_geom\u001b[49m\u001b[43m,\u001b[49m\u001b[43m \u001b[49m\u001b[43mmaxIters\u001b[49m\u001b[38;5;241;43m=\u001b[39;49m\u001b[38;5;241;43m200\u001b[39;49m\u001b[43m)\u001b[49m\n\u001b[1;32m    145\u001b[0m conf \u001b[38;5;241m=\u001b[39m mol_geom\u001b[38;5;241m.\u001b[39mGetConformer()\n\u001b[1;32m    146\u001b[0m coords \u001b[38;5;241m=\u001b[39m _resolved_positions(mol_raw, conf, star_to_carbon)\n",
      "\u001b[0;31mKeyboardInterrupt\u001b[0m: "
     ]
    }
   ],
   "source": [
    "graphs, manifest = convert_csv_to_graphs(\n",
    "    \"LAMALAB_CURATED_Tg_structured copy.csv\",\n",
    "    save_dir=\"graphs_npz_v2\",\n",
    "    save_extras=True,\n",
    "    graph_kwargs=dict(\n",
    "        add_atom_feats=True,\n",
    "        add_edge_rbf=True,\n",
    "        rbf_K=16, rbf_rmax=4.0,\n",
    "        add_nonbond_edges=True, nonbond_cutoff=4.0,\n",
    "        add_anchor_context=True,\n",
    "        compute_gasteiger=True,\n",
    "    ),\n",
    ")"
   ]
  },
  {
   "cell_type": "code",
   "execution_count": 3,
   "id": "adb5bb38",
   "metadata": {},
   "outputs": [
    {
     "ename": "NameError",
     "evalue": "name 'manifest' is not defined",
     "output_type": "error",
     "traceback": [
      "\u001b[0;31m---------------------------------------------------------------------------\u001b[0m",
      "\u001b[0;31mNameError\u001b[0m                                 Traceback (most recent call last)",
      "Cell \u001b[0;32mIn[3], line 1\u001b[0m\n\u001b[0;32m----> 1\u001b[0m \u001b[43mmanifest\u001b[49m\u001b[38;5;241m.\u001b[39mto_csv(\u001b[38;5;124m\"\u001b[39m\u001b[38;5;124mgraph_npz/manifest_v2.csv\u001b[39m\u001b[38;5;124m\"\u001b[39m, index\u001b[38;5;241m=\u001b[39m\u001b[38;5;28;01mFalse\u001b[39;00m)\n",
      "\u001b[0;31mNameError\u001b[0m: name 'manifest' is not defined"
     ]
    }
   ],
   "source": [
    "manifest.to_csv(\"graph_npz/manifest_v2.csv\", index=False)"
   ]
  },
  {
   "cell_type": "code",
   "execution_count": 4,
   "id": "1a2edffb",
   "metadata": {},
   "outputs": [],
   "source": [
    "import os\n",
    "from pathlib import Path\n",
    "from typing import Optional, Sequence, Union\n",
    "\n",
    "import numpy as np\n",
    "import pandas as pd\n",
    "import torch\n",
    "from torch.utils.data import Dataset\n",
    "from torch_geometric.data import Data"
   ]
  },
  {
   "cell_type": "code",
   "execution_count": 5,
   "id": "7ef4137d",
   "metadata": {},
   "outputs": [],
   "source": [
    "from NPZGraphDataset_2 import NPZGraphDataset"
   ]
  },
  {
   "cell_type": "code",
   "execution_count": 6,
   "id": "ba9586a6",
   "metadata": {},
   "outputs": [
    {
     "name": "stdout",
     "output_type": "stream",
     "text": [
      "{'x_dim': 4, 'edge_attr_dim': 4, 'num_nodes': 13, 'num_edges': 26, 'has_pos': True}\n"
     ]
    }
   ],
   "source": [
    "ds = NPZGraphDataset(\n",
    "    manifest=\"graphs_npz_v2/manifest.csv\",\n",
    "    root=\".\",                 # 若 file_path 为相对路径\n",
    "    mode=\"compat\",            # x=4列, edge_attr=4列 —— 和你模型一致\n",
    "    merge_nonbond=False,\n",
    "    standardize_y=True,\n",
    ")\n",
    "\n",
    "print(ds.peek_dims())"
   ]
  },
  {
   "cell_type": "code",
   "execution_count": 7,
   "id": "0d431e12",
   "metadata": {},
   "outputs": [
    {
     "name": "stdout",
     "output_type": "stream",
     "text": [
      "{'x_dim': 19, 'edge_attr_dim': 29, 'num_nodes': 13, 'num_edges': 88, 'has_pos': True}\n"
     ]
    }
   ],
   "source": [
    "ds_rich = NPZGraphDataset(\n",
    "    manifest=\"graphs_npz_v2/manifest.csv\",\n",
    "    mode=\"rich\",\n",
    "    merge_nonbond=True,       # 如果 .npz 里存了非键边\n",
    "    standardize_y=True,\n",
    ")\n",
    "\n",
    "info = ds_rich.peek_dims()\n",
    "print(info)  # {'x_dim': ?, 'edge_attr_dim': ?, ...}"
   ]
  },
  {
   "cell_type": "code",
   "execution_count": null,
   "id": "0cd4c941",
   "metadata": {},
   "outputs": [],
   "source": []
  }
 ],
 "metadata": {
  "kernelspec": {
   "display_name": "py38",
   "language": "python",
   "name": "python3"
  },
  "language_info": {
   "codemirror_mode": {
    "name": "ipython",
    "version": 3
   },
   "file_extension": ".py",
   "mimetype": "text/x-python",
   "name": "python",
   "nbconvert_exporter": "python",
   "pygments_lexer": "ipython3",
   "version": "3.8.20"
  }
 },
 "nbformat": 4,
 "nbformat_minor": 5
}
