{
 "cells": [
  {
   "cell_type": "code",
   "execution_count": 21,
   "id": "7647ffd3",
   "metadata": {},
   "outputs": [
    {
     "name": "stdout",
     "output_type": "stream",
     "text": [
      "数据集形状: (7367, 110)\n"
     ]
    }
   ],
   "source": [
    "import pandas as pd\n",
    "import numpy as np\n",
    "\n",
    "data = pd.read_csv('LAMALAB_CURATED_Tg_structured.csv')\n",
    "print(f\"数据集形状: {data.shape}\")"
   ]
  },
  {
   "cell_type": "code",
   "execution_count": 22,
   "id": "5d36a0b0",
   "metadata": {},
   "outputs": [],
   "source": [
    "# 加载 polyBERT 模型\n",
    "from sentence_transformers import SentenceTransformer\n",
    "\n",
    "polyBERT = SentenceTransformer('kuelumbus/polyBERT')"
   ]
  },
  {
   "cell_type": "code",
   "execution_count": 23,
   "id": "85aa3d31",
   "metadata": {},
   "outputs": [
    {
     "name": "stdout",
     "output_type": "stream",
     "text": [
      "空值数量: 0\n",
      "前5个PSMILES示例:\n",
      "1: [*]#C[SiH2]C#Cc1cccc(C#[*])c1\n",
      "2: [*]#Cc1cccc(C#C[SiH](C#[*])c2ccccc2)c1\n",
      "3: [*]#Cc1ccccc1C#C[SiH](C#[*])c1ccccc1\n",
      "4: [*]/C(=C(/[*])c1ccc(C(C)(C)C)cc1)c1ccccc1\n",
      "5: [*]/C(=C(/[*])c1ccc(CCCC)cc1)c1ccccc1\n"
     ]
    }
   ],
   "source": [
    "# 提取所有的 PSMILES\n",
    "psmiles_list = data['PSMILES'].tolist()\n",
    "# 检查是否有空值或无效数据\n",
    "print(f\"空值数量: {data['PSMILES'].isna().sum()}\")\n",
    "print(f\"前5个PSMILES示例:\")\n",
    "for i, psmiles in enumerate(psmiles_list[:5]):\n",
    "    print(f\"{i+1}: {psmiles}\")"
   ]
  },
  {
   "cell_type": "code",
   "execution_count": 24,
   "id": "e211ba94",
   "metadata": {},
   "outputs": [
    {
     "data": {
      "application/vnd.jupyter.widget-view+json": {
       "model_id": "38090d7c51a64cccb936674fcc663a60",
       "version_major": 2,
       "version_minor": 0
      },
      "text/plain": [
       "Batches:   0%|          | 0/231 [00:00<?, ?it/s]"
      ]
     },
     "metadata": {},
     "output_type": "display_data"
    },
    {
     "name": "stdout",
     "output_type": "stream",
     "text": [
      "嵌入向量形状: (7367, 600)\n",
      "每个 PSMILES 的嵌入向量维度: 600\n"
     ]
    }
   ],
   "source": [
    "# 批量编码所有的 PSMILES\n",
    "psmiles_embeddings = polyBERT.encode(psmiles_list, show_progress_bar=True)\n",
    "\n",
    "print(f\"嵌入向量形状: {psmiles_embeddings.shape}\")\n",
    "print(f\"每个 PSMILES 的嵌入向量维度: {psmiles_embeddings.shape[1]}\")"
   ]
  },
  {
   "cell_type": "code",
   "execution_count": 44,
   "id": "30a214ac",
   "metadata": {},
   "outputs": [],
   "source": [
    "import pandas as pd\n",
    "import numpy as np\n",
    "from sklearn.model_selection import train_test_split"
   ]
  },
  {
   "cell_type": "code",
   "execution_count": 45,
   "id": "53fe51e8",
   "metadata": {},
   "outputs": [],
   "source": [
    "# 读取数据集（如果还没有加载）\n",
    "if 'data' not in globals():\n",
    "    data = pd.read_csv('LAMALAB_CURATED_Tg_structured.csv')"
   ]
  },
  {
   "cell_type": "code",
   "execution_count": 46,
   "id": "84e77508",
   "metadata": {},
   "outputs": [],
   "source": [
    "# 根据可靠性等级划分数据\n",
    "train_data = data[data['meta.reliability'] == 'black'].copy()\n",
    "val_test_data = data[data['meta.reliability'].isin(['yellow', 'gold'])].copy()\n",
    "\n",
    "# 对 yellow 和 gold 数据混合打乱后划分为验证集和测试集（各50%）\n",
    "if len(val_test_data) > 0:\n",
    "    val_data, test_data = train_test_split(\n",
    "        val_test_data, \n",
    "        test_size=0.5, \n",
    "        random_state=42, \n",
    "        shuffle=True\n",
    "    )"
   ]
  },
  {
   "cell_type": "code",
   "execution_count": 47,
   "id": "da4d40f6",
   "metadata": {},
   "outputs": [],
   "source": [
    "# 提取对应的索引用于后续的嵌入向量划分\n",
    "train_indices = train_data.index.tolist()\n",
    "val_indices = val_data.index.tolist() if len(val_data) > 0 else []\n",
    "test_indices = test_data.index.tolist() if len(test_data) > 0 else []"
   ]
  },
  {
   "cell_type": "code",
   "execution_count": null,
   "id": "d16dfefc",
   "metadata": {},
   "outputs": [
    {
     "name": "stdout",
     "output_type": "stream",
     "text": [
      "训练集嵌入向量: (7088, 600)\n",
      "验证集嵌入向量: (137, 600)\n",
      "测试集嵌入向量: (138, 600)\n"
     ]
    }
   ],
   "source": [
    "train_embeddings = psmiles_embeddings[train_indices]\n",
    "val_embeddings = psmiles_embeddings[val_indices]\n",
    "test_embeddings = psmiles_embeddings[test_indices]\n",
    "embeddings_all = psmiles_embeddings\n",
    "    \n",
    "print(f\"训练集嵌入向量: {train_embeddings.shape}\")\n",
    "print(f\"验证集嵌入向量: {val_embeddings.shape}\")\n",
    "print(f\"测试集嵌入向量: {test_embeddings.shape}\")"
   ]
  },
  {
   "cell_type": "code",
   "execution_count": 39,
   "id": "677ad17a",
   "metadata": {},
   "outputs": [
    {
     "name": "stdout",
     "output_type": "stream",
     "text": [
      "(7088,)\n",
      "(137,)\n",
      "(138,)\n"
     ]
    }
   ],
   "source": [
    "# 提取目标变量 Tg 值\n",
    "train_y = train_data['labels.Exp_Tg(K)'].values\n",
    "val_y = val_data['labels.Exp_Tg(K)'].values if len(val_data) > 0 else np.array([])\n",
    "test_y = test_data['labels.Exp_Tg(K)'].values if len(test_data) > 0 else np.array([])\n",
    "\n",
    "print(train_y.shape)\n",
    "print(val_y.shape)\n",
    "print(test_y.shape)\n"
   ]
  },
  {
   "cell_type": "code",
   "execution_count": null,
   "id": "b597e3ec",
   "metadata": {},
   "outputs": [],
   "source": []
  }
 ],
 "metadata": {
  "kernelspec": {
   "display_name": "py39",
   "language": "python",
   "name": "python3"
  },
  "language_info": {
   "codemirror_mode": {
    "name": "ipython",
    "version": 3
   },
   "file_extension": ".py",
   "mimetype": "text/x-python",
   "name": "python",
   "nbconvert_exporter": "python",
   "pygments_lexer": "ipython3",
   "version": "3.9.7"
  }
 },
 "nbformat": 4,
 "nbformat_minor": 5
}
