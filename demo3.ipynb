{
 "cells": [
  {
   "cell_type": "code",
   "execution_count": 1,
   "id": "ff113d87",
   "metadata": {},
   "outputs": [
    {
     "name": "stderr",
     "output_type": "stream",
     "text": [
      "/var/folders/zp/7_rwy7bn2vgckz6rtnz6fvp00000gn/T/ipykernel_1798/1950247594.py:8: FutureWarning: You are using `torch.load` with `weights_only=False` (the current default value), which uses the default pickle module implicitly. It is possible to construct malicious pickle data which will execute arbitrary code during unpickling (See https://github.com/pytorch/pytorch/blob/main/SECURITY.md#untrusted-models for more details). In a future release, the default value for `weights_only` will be flipped to `True`. This limits the functions that could be executed during unpickling. Arbitrary objects will no longer be allowed to be loaded via this mode unless they are explicitly allowlisted by the user via `torch.serialization.add_safe_globals`. We recommend you start setting `weights_only=True` for any use case where you don't have full control of the loaded file. Please open an issue on GitHub for any issues related to this experimental feature.\n",
      "  checkpoint = torch.load(ckpt_path, map_location=\"cpu\")  # 或 'cuda'\n"
     ]
    }
   ],
   "source": [
    "import torch\n",
    "from Model.Modelv4.ConvModel import GatedGCNModel\n",
    "from NPZGraphDataset import NPZGraphDataset\n",
    "from pathlib import Path\n",
    "import pandas as pd\n",
    "\n",
    "ckpt_path = \"./v4.pt\"  # 你保存的文件路径\n",
    "checkpoint = torch.load(ckpt_path, map_location=\"cpu\")  # 或 'cuda' "
   ]
  },
  {
   "cell_type": "code",
   "execution_count": 2,
   "id": "b6152fbf",
   "metadata": {},
   "outputs": [],
   "source": [
    "# === 1) 重新实例化模型 ===\n",
    "# 创建模型实例\n",
    "model = GatedGCNModel(\n",
    "    layers_in_conv=3,       # 每个卷积块的层数\n",
    "    channels=64,            # 每层通道数\n",
    "    num_node_types=9,       # 节点类型数量\n",
    "    num_edge_types=4,       # 边类型数量\n",
    "    geom_K=16,              # RBF基数量\n",
    "    gem_out=32,             # GemNet边角特征输出维度\n",
    "    heads=4,                # GATv2注意力头数\n",
    "    dropout_p=0.1,          # Dropout概率\n",
    "    num_targets=1           # 输出维度（比如预测一个标量）\n",
    ")\n",
    "\n",
    "model.load_state_dict(checkpoint[\"model_state\"])\n",
    "model.eval()\n",
    "\n",
    "# === 2) 还原标准化参数 ===\n",
    "y_mean = checkpoint[\"y_mean\"]\n",
    "y_std  = checkpoint[\"y_std\"]\n",
    "\n",
    "def denorm(t):\n",
    "    return t * y_std + y_mean"
   ]
  },
  {
   "cell_type": "code",
   "execution_count": 3,
   "id": "ef22f9e0",
   "metadata": {},
   "outputs": [],
   "source": [
    "manifest_path = Path(\"./graph_npz/manifest.csv\")\n",
    "root_dir = Path(\"./\")  # 若 file_path 是相对路径，作为公共前缀\n",
    "\n",
    "manifest = pd.read_csv(manifest_path)"
   ]
  },
  {
   "cell_type": "code",
   "execution_count": 4,
   "id": "c9aa4d76",
   "metadata": {},
   "outputs": [],
   "source": [
    "from sklearn.model_selection import train_test_split\n",
    "\n",
    "if \"label\" in manifest:\n",
    "    # 这里用 10 个分箱；你也可以改成 5 或 20\n",
    "    try:\n",
    "        bins = pd.qcut(manifest[\"label\"], q=10, duplicates=\"drop\")\n",
    "        stratify_labels = bins.astype(str)\n",
    "    except Exception:\n",
    "        stratify_labels = None\n",
    "else:\n",
    "    stratify_labels = None\n",
    "\n",
    "# 3) 先切出测试集（10%），再从剩余里切验证集（10%）\n",
    "train_val_df, test_df = train_test_split(\n",
    "    manifest,\n",
    "    test_size=0.10,\n",
    "    random_state=42,\n",
    "    shuffle=True,\n",
    "    stratify=stratify_labels if stratify_labels is not None else None,\n",
    ")\n",
    "# 对 train_val 再按 10% 切出 val => 0.9 * 0.1 = 9%（接近 80/10/10）\n",
    "if stratify_labels is not None:\n",
    "    train_val_bins = pd.qcut(train_val_df[\"label\"], q=10, duplicates=\"drop\")\n",
    "    stratify_trainval = train_val_bins.astype(str)\n",
    "else:\n",
    "    stratify_trainval = None"
   ]
  },
  {
   "cell_type": "code",
   "execution_count": 5,
   "id": "8ded8a9a",
   "metadata": {},
   "outputs": [],
   "source": [
    "from torch_geometric.loader import DataLoader\n",
    "test_dataset = NPZGraphDataset(\n",
    "    manifest=test_df,\n",
    "    root=root_dir,\n",
    "    separate_pos=True,\n",
    "    feature_cols=(0,1,2,3),\n",
    "    coord_cols=(4,5,6),\n",
    "    standardize_y=True,\n",
    ")\n",
    "test_loader  = DataLoader(test_dataset,  batch_size=32, shuffle=False, pin_memory=True)"
   ]
  },
  {
   "cell_type": "code",
   "execution_count": null,
   "id": "09d0149a",
   "metadata": {},
   "outputs": [],
   "source": [
    "device = torch.device(\"cpu\")\n",
    "model = model.to(device)\n",
    "\n",
    "preds, trues = [], []\n",
    "with torch.no_grad():\n",
    "    for batch in test_loader:  # 之前构建的 test_loader\n",
    "        batch = batch.to(device)\n",
    "        pred_norm = model(batch)                     # 标准化空间\n",
    "        y_norm = batch.y.view(-1,1).float().to(device)\n",
    "        # 反标准化\n",
    "        pred_k = denorm(pred_norm.cpu())\n",
    "        y_k = denorm(y_norm.cpu())\n",
    "        preds.append(pred_k)\n",
    "        trues.append(y_k)\n",
    "\n",
    "preds = torch.cat(preds).view(-1).numpy()\n",
    "trues = torch.cat(trues).view(-1).numpy()"
   ]
  },
  {
   "cell_type": "code",
   "execution_count": null,
   "id": "2943409e",
   "metadata": {},
   "outputs": [],
   "source": [
    "import numpy as np\n",
    "\n",
    "mae = np.mean(np.abs(preds - trues))\n",
    "rmse = np.sqrt(np.mean((preds - trues)**2))\n",
    "print(f\"Test MAE = {mae:.3f} K, RMSE = {rmse:.3f} K\")"
   ]
  },
  {
   "cell_type": "code",
   "execution_count": 6,
   "id": "8f09575f",
   "metadata": {},
   "outputs": [
    {
     "ename": "NameError",
     "evalue": "name 'trues' is not defined",
     "output_type": "error",
     "traceback": [
      "\u001b[0;31m---------------------------------------------------------------------------\u001b[0m",
      "\u001b[0;31mNameError\u001b[0m                                 Traceback (most recent call last)",
      "Cell \u001b[0;32mIn[6], line 4\u001b[0m\n\u001b[1;32m      1\u001b[0m \u001b[38;5;28;01mimport\u001b[39;00m \u001b[38;5;21;01mmatplotlib\u001b[39;00m\u001b[38;5;21;01m.\u001b[39;00m\u001b[38;5;21;01mpyplot\u001b[39;00m \u001b[38;5;28;01mas\u001b[39;00m \u001b[38;5;21;01mplt\u001b[39;00m\n\u001b[1;32m      3\u001b[0m plt\u001b[38;5;241m.\u001b[39mfigure(figsize\u001b[38;5;241m=\u001b[39m(\u001b[38;5;241m6\u001b[39m,\u001b[38;5;241m6\u001b[39m))\n\u001b[0;32m----> 4\u001b[0m plt\u001b[38;5;241m.\u001b[39mscatter(\u001b[43mtrues\u001b[49m, preds, alpha\u001b[38;5;241m=\u001b[39m\u001b[38;5;241m0.6\u001b[39m, edgecolor\u001b[38;5;241m=\u001b[39m\u001b[38;5;124m\"\u001b[39m\u001b[38;5;124mk\u001b[39m\u001b[38;5;124m\"\u001b[39m)\n\u001b[1;32m      5\u001b[0m plt\u001b[38;5;241m.\u001b[39mplot([trues\u001b[38;5;241m.\u001b[39mmin(), trues\u001b[38;5;241m.\u001b[39mmax()],\n\u001b[1;32m      6\u001b[0m          [trues\u001b[38;5;241m.\u001b[39mmin(), trues\u001b[38;5;241m.\u001b[39mmax()],\n\u001b[1;32m      7\u001b[0m          \u001b[38;5;124m\"\u001b[39m\u001b[38;5;124mr--\u001b[39m\u001b[38;5;124m\"\u001b[39m, lw\u001b[38;5;241m=\u001b[39m\u001b[38;5;241m2\u001b[39m, label\u001b[38;5;241m=\u001b[39m\u001b[38;5;124m\"\u001b[39m\u001b[38;5;124mIdeal\u001b[39m\u001b[38;5;124m\"\u001b[39m)\n\u001b[1;32m      8\u001b[0m plt\u001b[38;5;241m.\u001b[39mxlabel(\u001b[38;5;124m\"\u001b[39m\u001b[38;5;124mTrue Tg (K)\u001b[39m\u001b[38;5;124m\"\u001b[39m)\n",
      "\u001b[0;31mNameError\u001b[0m: name 'trues' is not defined"
     ]
    },
    {
     "data": {
      "text/plain": [
       "<Figure size 600x600 with 0 Axes>"
      ]
     },
     "metadata": {},
     "output_type": "display_data"
    }
   ],
   "source": [
    "import matplotlib.pyplot as plt\n",
    "\n",
    "plt.figure(figsize=(6,6))\n",
    "plt.scatter(trues, preds, alpha=0.6, edgecolor=\"k\")\n",
    "plt.plot([trues.min(), trues.max()],\n",
    "         [trues.min(), trues.max()],\n",
    "         \"r--\", lw=2, label=\"Ideal\")\n",
    "plt.xlabel(\"True Tg (K)\")\n",
    "plt.ylabel(\"Predicted Tg (K)\")\n",
    "plt.title(\"Prediction vs True Tg\")\n",
    "plt.legend()\n",
    "plt.grid(True, alpha=0.3)\n",
    "plt.tight_layout()\n",
    "plt.show()\n",
    "plt.savefig(f\"v4.png\", dpi=200)"
   ]
  },
  {
   "cell_type": "code",
   "execution_count": null,
   "id": "f6cd2832",
   "metadata": {},
   "outputs": [],
   "source": []
  },
  {
   "cell_type": "code",
   "execution_count": null,
   "id": "803f5521",
   "metadata": {},
   "outputs": [],
   "source": []
  }
 ],
 "metadata": {
  "kernelspec": {
   "display_name": "py38",
   "language": "python",
   "name": "python3"
  },
  "language_info": {
   "codemirror_mode": {
    "name": "ipython",
    "version": 3
   },
   "file_extension": ".py",
   "mimetype": "text/x-python",
   "name": "python",
   "nbconvert_exporter": "python",
   "pygments_lexer": "ipython3",
   "version": "3.8.20"
  }
 },
 "nbformat": 4,
 "nbformat_minor": 5
}
