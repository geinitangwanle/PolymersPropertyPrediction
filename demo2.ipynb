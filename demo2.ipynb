{
 "cells": [
  {
   "cell_type": "code",
   "execution_count": 2,
   "id": "7d8b7808",
   "metadata": {},
   "outputs": [],
   "source": [
    "from NPZGraphDataset import NPZGraphDataset\n",
    "import pandas as pd\n",
    "import numpy as np\n",
    "from pathlib import Path\n",
    "from sklearn.model_selection import train_test_split\n",
    "from torch_geometric.loader import DataLoader"
   ]
  },
  {
   "cell_type": "code",
   "execution_count": 3,
   "id": "822c3db4",
   "metadata": {},
   "outputs": [],
   "source": [
    "# 1) 读取 manifest\n",
    "manifest_path = Path(\"./graph_npz/manifest.csv\")\n",
    "root_dir = Path(\"./\")  # 若 file_path 是相对路径，作为公共前缀\n",
    "\n",
    "manifest = pd.read_csv(manifest_path)"
   ]
  },
  {
   "cell_type": "code",
   "execution_count": 4,
   "id": "7d6708f8",
   "metadata": {},
   "outputs": [],
   "source": [
    "# 2) 分层标签：把连续的 Tg 分成若干箱做 stratify（若标签太少会自动退化为非分层）\n",
    "if \"label\" in manifest:\n",
    "    # 这里用 10 个分箱；你也可以改成 5 或 20\n",
    "    try:\n",
    "        bins = pd.qcut(manifest[\"label\"], q=10, duplicates=\"drop\")\n",
    "        stratify_labels = bins.astype(str)\n",
    "    except Exception:\n",
    "        stratify_labels = None\n",
    "else:\n",
    "    stratify_labels = None"
   ]
  },
  {
   "cell_type": "code",
   "execution_count": 5,
   "id": "de9dad40",
   "metadata": {},
   "outputs": [
    {
     "name": "stdout",
     "output_type": "stream",
     "text": [
      "Train: 5893 | Val: 737 | Test: 737\n"
     ]
    }
   ],
   "source": [
    "# 3) 先切出测试集（10%），再从剩余里切验证集（10%）\n",
    "train_val_df, test_df = train_test_split(\n",
    "    manifest,\n",
    "    test_size=0.10,\n",
    "    random_state=42,\n",
    "    shuffle=True,\n",
    "    stratify=stratify_labels if stratify_labels is not None else None,\n",
    ")\n",
    "# 对 train_val 再按 10% 切出 val => 0.9 * 0.1 = 9%（接近 80/10/10）\n",
    "if stratify_labels is not None:\n",
    "    train_val_bins = pd.qcut(train_val_df[\"label\"], q=10, duplicates=\"drop\")\n",
    "    stratify_trainval = train_val_bins.astype(str)\n",
    "else:\n",
    "    stratify_trainval = None\n",
    "\n",
    "train_df, val_df = train_test_split(\n",
    "    train_val_df,\n",
    "    test_size=0.10/0.90,   # 约 0.111..., 使得整体 ~80/10/10\n",
    "    random_state=42,\n",
    "    shuffle=True,\n",
    "    stratify=stratify_trainval if stratify_trainval is not None else None,\n",
    ")\n",
    "\n",
    "print(f\"Train: {len(train_df)} | Val: {len(val_df)} | Test: {len(test_df)}\")"
   ]
  },
  {
   "cell_type": "code",
   "execution_count": null,
   "id": "75708778",
   "metadata": {},
   "outputs": [
    {
     "name": "stdout",
     "output_type": "stream",
     "text": [
      "y_mean(train)=417.1868, y_std(train)=112.5722\n"
     ]
    }
   ],
   "source": [
    "# 4) 构建三个 Dataset（验证/测试共用训练集的标准化参数）\n",
    "train_dataset = NPZGraphDataset(\n",
    "    manifest=train_df,\n",
    "    root=root_dir,\n",
    "    separate_pos=True,      # (x,y,z) 放在 data.pos\n",
    "    feature_cols=(0,1,2,3),\n",
    "    coord_cols=(4,5,6),\n",
    "    standardize_y=True,     # 仅用训练集统计均值方差\n",
    ")\n",
    "\n",
    "val_dataset = NPZGraphDataset(\n",
    "    manifest=val_df,\n",
    "    root=root_dir,\n",
    "    separate_pos=True,\n",
    "    feature_cols=(0,1,2,3),\n",
    "    coord_cols=(4,5,6),\n",
    "    standardize_y=True,     # 先开着，随后覆盖为 train 的均值方差\n",
    ")\n",
    "# 覆盖验证集 y 的标准化为“训练集统计”，防止数据泄漏\n",
    "val_dataset._y_mean = train_dataset.y_mean\n",
    "val_dataset._y_std  = train_dataset.y_std\n",
    "\n",
    "test_dataset = NPZGraphDataset(\n",
    "    manifest=test_df,\n",
    "    root=root_dir,\n",
    "    separate_pos=True,\n",
    "    feature_cols=(0,1,2,3),\n",
    "    coord_cols=(4,5,6),\n",
    "    standardize_y=True,\n",
    ")\n",
    "# 覆盖测试集 y 的标准化为“训练集统计”，防止数据泄漏\n",
    "test_dataset._y_mean = train_dataset.y_mean\n",
    "test_dataset._y_std  = train_dataset.y_std\n",
    "print(f\"y_mean(train)={train_dataset.y_mean:.4f}, y_std(train)={train_dataset.y_std:.4f}\")"
   ]
  },
  {
   "cell_type": "code",
   "execution_count": 7,
   "id": "bba08d54",
   "metadata": {},
   "outputs": [],
   "source": [
    "# 5) DataLoader\n",
    "train_loader = DataLoader(train_dataset, batch_size=32, shuffle=True,  pin_memory=True)\n",
    "val_loader   = DataLoader(val_dataset,   batch_size=32, shuffle=False, pin_memory=True)\n",
    "test_loader  = DataLoader(test_dataset,  batch_size=32, shuffle=False, pin_memory=True)"
   ]
  },
  {
   "cell_type": "code",
   "execution_count": 8,
   "id": "5e6e1bed",
   "metadata": {},
   "outputs": [
    {
     "name": "stdout",
     "output_type": "stream",
     "text": [
      "DataBatch(x=[1233, 4], edge_index=[2, 2682], edge_attr=[2682, 4], y=[32], pos=[1233, 3], mol_id=[32], file_path=[32], batch=[1233], ptr=[33])\n",
      "x: torch.Size([1233, 4])\n",
      "pos: torch.Size([1233, 3])\n",
      "edge_index: torch.Size([2, 2682])\n",
      "edge_attr: torch.Size([2682, 4])\n",
      "y: torch.Size([32])\n"
     ]
    }
   ],
   "source": [
    "# 6) 简单检查一个 batch\n",
    "batch = next(iter(train_loader))\n",
    "print(batch)\n",
    "print(\"x:\", None if batch.x is None else batch.x.shape)\n",
    "print(\"pos:\", None if batch.pos is None else batch.pos.shape)\n",
    "print(\"edge_index:\", batch.edge_index.shape)\n",
    "print(\"edge_attr:\", batch.edge_attr.shape)\n",
    "print(\"y:\", batch.y.shape)\n",
    "\n",
    "# ====== 评估时如需把预测还原为物理单位（K）：=====\n",
    "# pred_real = pred_norm * train_dataset.y_std + train_dataset.y_mean\n",
    "# y_real    = y_norm    * train_dataset.y_std + train_dataset.y_mean"
   ]
  },
  {
   "cell_type": "code",
   "execution_count": null,
   "id": "6e6ede57",
   "metadata": {},
   "outputs": [],
   "source": []
  }
 ],
 "metadata": {
  "kernelspec": {
   "display_name": "py38",
   "language": "python",
   "name": "python3"
  },
  "language_info": {
   "codemirror_mode": {
    "name": "ipython",
    "version": 3
   },
   "file_extension": ".py",
   "mimetype": "text/x-python",
   "name": "python",
   "nbconvert_exporter": "python",
   "pygments_lexer": "ipython3",
   "version": "3.8.20"
  }
 },
 "nbformat": 4,
 "nbformat_minor": 5
}
