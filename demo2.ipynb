{
 "cells": [
  {
   "cell_type": "code",
   "execution_count": 2,
   "id": "7d8b7808",
   "metadata": {},
   "outputs": [],
   "source": [
    "from NPZGraphDataset import NPZGraphDataset\n",
    "import pandas as pd\n",
    "import numpy as np\n",
    "from pathlib import Path\n",
    "from sklearn.model_selection import train_test_split\n",
    "from torch_geometric.loader import DataLoader"
   ]
  },
  {
   "cell_type": "code",
   "execution_count": 3,
   "id": "822c3db4",
   "metadata": {},
   "outputs": [],
   "source": [
    "# 1) 读取 manifest\n",
    "manifest_path = Path(\"./graph_npz/manifest.csv\")\n",
    "root_dir = Path(\"./\")  # 若 file_path 是相对路径，作为公共前缀\n",
    "\n",
    "manifest = pd.read_csv(manifest_path)"
   ]
  },
  {
   "cell_type": "code",
   "execution_count": 4,
   "id": "7d6708f8",
   "metadata": {},
   "outputs": [],
   "source": [
    "# 2) 分层标签：把连续的 Tg 分成若干箱做 stratify（若标签太少会自动退化为非分层）\n",
    "if \"label\" in manifest:\n",
    "    # 这里用 10 个分箱；你也可以改成 5 或 20\n",
    "    try:\n",
    "        bins = pd.qcut(manifest[\"label\"], q=10, duplicates=\"drop\")\n",
    "        stratify_labels = bins.astype(str)\n",
    "    except Exception:\n",
    "        stratify_labels = None\n",
    "else:\n",
    "    stratify_labels = None"
   ]
  },
  {
   "cell_type": "code",
   "execution_count": 5,
   "id": "de9dad40",
   "metadata": {},
   "outputs": [
    {
     "name": "stdout",
     "output_type": "stream",
     "text": [
      "Train: 5893 | Val: 737 | Test: 737\n"
     ]
    }
   ],
   "source": [
    "# 3) 先切出测试集（10%），再从剩余里切验证集（10%）\n",
    "train_val_df, test_df = train_test_split(\n",
    "    manifest,\n",
    "    test_size=0.10,\n",
    "    random_state=42,\n",
    "    shuffle=True,\n",
    "    stratify=stratify_labels if stratify_labels is not None else None,\n",
    ")\n",
    "# 对 train_val 再按 10% 切出 val => 0.9 * 0.1 = 9%（接近 80/10/10）\n",
    "if stratify_labels is not None:\n",
    "    train_val_bins = pd.qcut(train_val_df[\"label\"], q=10, duplicates=\"drop\")\n",
    "    stratify_trainval = train_val_bins.astype(str)\n",
    "else:\n",
    "    stratify_trainval = None\n",
    "\n",
    "train_df, val_df = train_test_split(\n",
    "    train_val_df,\n",
    "    test_size=0.10/0.90,   # 约 0.111..., 使得整体 ~80/10/10\n",
    "    random_state=42,\n",
    "    shuffle=True,\n",
    "    stratify=stratify_trainval if stratify_trainval is not None else None,\n",
    ")\n",
    "\n",
    "print(f\"Train: {len(train_df)} | Val: {len(val_df)} | Test: {len(test_df)}\")"
   ]
  },
  {
   "cell_type": "code",
   "execution_count": 6,
   "id": "75708778",
   "metadata": {},
   "outputs": [
    {
     "name": "stdout",
     "output_type": "stream",
     "text": [
      "y_mean(train)=417.1868, y_std(train)=112.5722\n"
     ]
    }
   ],
   "source": [
    "# 4) 构建三个 Dataset（验证/测试共用训练集的标准化参数）\n",
    "train_dataset = NPZGraphDataset(\n",
    "    manifest=train_df,\n",
    "    root=root_dir,\n",
    "    separate_pos=True,      # (x,y,z) 放在 data.pos\n",
    "    feature_cols=(0,1,2,3),\n",
    "    coord_cols=(4,5,6),\n",
    "    standardize_y=True,     # 仅用训练集统计均值方差\n",
    ")\n",
    "\n",
    "val_dataset = NPZGraphDataset(\n",
    "    manifest=val_df,\n",
    "    root=root_dir,\n",
    "    separate_pos=True,\n",
    "    feature_cols=(0,1,2,3),\n",
    "    coord_cols=(4,5,6),\n",
    "    standardize_y=True,     # 先开着，随后覆盖为 train 的均值方差\n",
    ")\n",
    "# 覆盖验证集 y 的标准化为“训练集统计”，防止数据泄漏\n",
    "val_dataset._y_mean = train_dataset.y_mean\n",
    "val_dataset._y_std  = train_dataset.y_std\n",
    "\n",
    "test_dataset = NPZGraphDataset(\n",
    "    manifest=test_df,\n",
    "    root=root_dir,\n",
    "    separate_pos=True,\n",
    "    feature_cols=(0,1,2,3),\n",
    "    coord_cols=(4,5,6),\n",
    "    standardize_y=True,\n",
    ")\n",
    "# 覆盖测试集 y 的标准化为“训练集统计”，防止数据泄漏\n",
    "test_dataset._y_mean = train_dataset.y_mean\n",
    "test_dataset._y_std  = train_dataset.y_std\n",
    "print(f\"y_mean(train)={train_dataset.y_mean:.4f}, y_std(train)={train_dataset.y_std:.4f}\")"
   ]
  },
  {
   "cell_type": "code",
   "execution_count": 7,
   "id": "bba08d54",
   "metadata": {},
   "outputs": [],
   "source": [
    "# 5) DataLoader\n",
    "train_loader = DataLoader(train_dataset, batch_size=32, shuffle=True,  pin_memory=True)\n",
    "val_loader   = DataLoader(val_dataset,   batch_size=32, shuffle=False, pin_memory=True)\n",
    "test_loader  = DataLoader(test_dataset,  batch_size=32, shuffle=False, pin_memory=True)"
   ]
  },
  {
   "cell_type": "code",
   "execution_count": 8,
   "id": "5e6e1bed",
   "metadata": {},
   "outputs": [
    {
     "name": "stdout",
     "output_type": "stream",
     "text": [
      "DataBatch(x=[1155, 4], edge_index=[2, 2478], edge_attr=[2478, 4], y=[32], pos=[1155, 3], mol_id=[32], file_path=[32], batch=[1155], ptr=[33])\n",
      "x: torch.Size([1155, 4])\n",
      "pos: torch.Size([1155, 3])\n",
      "edge_index: torch.Size([2, 2478])\n",
      "edge_attr: torch.Size([2478, 4])\n",
      "y: torch.Size([32])\n"
     ]
    }
   ],
   "source": [
    "# 6) 简单检查一个 batch\n",
    "batch = next(iter(train_loader))\n",
    "print(batch)\n",
    "print(\"x:\", None if batch.x is None else batch.x.shape)\n",
    "print(\"pos:\", None if batch.pos is None else batch.pos.shape)\n",
    "print(\"edge_index:\", batch.edge_index.shape)\n",
    "print(\"edge_attr:\", batch.edge_attr.shape)\n",
    "print(\"y:\", batch.y.shape)\n",
    "\n",
    "# ====== 评估时如需把预测还原为物理单位（K）：=====\n",
    "# pred_real = pred_norm * train_dataset.y_std + train_dataset.y_mean\n",
    "# y_real    = y_norm    * train_dataset.y_std + train_dataset.y_mean"
   ]
  },
  {
   "cell_type": "code",
   "execution_count": 11,
   "id": "637b3027",
   "metadata": {},
   "outputs": [],
   "source": [
    "import torch\n",
    "import torch.nn as nn\n",
    "from torch_geometric.loader import DataLoader\n",
    "from Model.Modelv3withAtt.ConvModelV3 import GatedGCNModel"
   ]
  },
  {
   "cell_type": "code",
   "execution_count": 12,
   "id": "b8d40cda",
   "metadata": {},
   "outputs": [],
   "source": [
    "device = torch.device('cuda' if torch.cuda.is_available() else 'cpu')"
   ]
  },
  {
   "cell_type": "code",
   "execution_count": 13,
   "id": "a8c7a431",
   "metadata": {},
   "outputs": [],
   "source": [
    "model = GatedGCNModel(\n",
    "    layers_in_conv=3,\n",
    "    channels=64,\n",
    "    use_nodetype_coeffs=False,  # x 不是类型 one-hot，先关掉\n",
    "    num_node_types=0,\n",
    "    num_edge_types=4,           # 与 edge_attr 的含义无强耦合，这里保留默认\n",
    "    use_jumping_knowledge=False,\n",
    "    use_bias_for_update=True,\n",
    "    use_dropout=True,\n",
    "    num_convs=3,\n",
    "    num_fc_layers=3,\n",
    "    neighbors_aggr='add',\n",
    "    dropout_p=0.1,\n",
    "    num_targets=1,\n",
    "    geom_K=16, # RBF探针数量\n",
    "    geom_rmax=4.0, # 设置化学键的最大键长\n",
    "    concat_original_edge=True, # 得到新的边特征后，是否与原始边特征拼接（是否使用pos信息）\n",
    "    gem_out=32,\n",
    "    heads=4, # GAT多头注意力机制的头数\n",
    ").to(device)"
   ]
  },
  {
   "cell_type": "code",
   "execution_count": 14,
   "id": "7f7f015f",
   "metadata": {},
   "outputs": [],
   "source": [
    "criterion = nn.MSELoss()\n",
    "optimizer = torch.optim.AdamW(model.parameters(), lr=0.001, weight_decay=1e-4)"
   ]
  },
  {
   "cell_type": "code",
   "execution_count": null,
   "id": "73fa1ac9",
   "metadata": {},
   "outputs": [],
   "source": [
    "epochs = 50\n",
    "for epoch in range(1, epochs+1):\n",
    "    # ---- train ----\n",
    "    model.train()\n",
    "    total_loss = 0.0; n_tr = 0\n",
    "    for batch in train_loader:\n",
    "        batch = batch.to(device)\n",
    "        pred = model(batch)                 # [B, 1]\n",
    "        y = (batch.y.view(-1,1).float()).to(device)\n",
    "        loss = criterion(pred, y)\n",
    "\n",
    "        optimizer.zero_grad()\n",
    "        loss.backward()\n",
    "        torch.nn.utils.clip_grad_norm_(model.parameters(), 5.0)\n",
    "        optimizer.step()\n",
    "\n",
    "        total_loss += loss.item() * batch.num_graphs\n",
    "        n_tr += batch.num_graphs\n",
    "\n",
    "    # ---- eval ----\n",
    "    model.eval()\n",
    "    mae = 0.0; rmse = 0.0; n_val = 0\n",
    "    with torch.no_grad():\n",
    "        for batch in val_loader:\n",
    "            batch = batch.to(device)\n",
    "            pred = (model(batch))   \n",
    "            y_true = batch.y.view(-1,1).float().to(device)\n",
    "            mae  += (pred - y_true).abs().sum().item()\n",
    "            rmse += ((pred - y_true)**2).sum().item()\n",
    "            n_val += batch.num_graphs\n",
    "    mae  /= n_val\n",
    "    rmse = (rmse / n_val) ** 0.5\n",
    "\n",
    "    print(f\"Epoch {epoch:03d} | TrainLoss {total_loss/n_tr:.4f} | Val MAE {mae:.3f} | Val RMSE {rmse:.3f}\")"
   ]
  },
  {
   "cell_type": "code",
   "execution_count": null,
   "id": "9688a488",
   "metadata": {},
   "outputs": [],
   "source": []
  }
 ],
 "metadata": {
  "kernelspec": {
   "display_name": "py38",
   "language": "python",
   "name": "python3"
  },
  "language_info": {
   "codemirror_mode": {
    "name": "ipython",
    "version": 3
   },
   "file_extension": ".py",
   "mimetype": "text/x-python",
   "name": "python",
   "nbconvert_exporter": "python",
   "pygments_lexer": "ipython3",
   "version": "3.8.20"
  }
 },
 "nbformat": 4,
 "nbformat_minor": 5
}
